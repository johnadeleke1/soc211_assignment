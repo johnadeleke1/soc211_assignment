{
 "cells": [
  {
   "cell_type": "markdown",
   "metadata": {},
   "source": [
    "## Stats 211 Problem set 2\n",
    "\n",
    "John Adeleke\n",
    "\n",
    "Student Debt, College Prices for Low-income Students and University's Research\n",
    "Intensiveness \n",
    "\n",
    "02/20/2024"
   ]
  },
  {
   "cell_type": "markdown",
   "metadata": {},
   "source": [
    "### 1. Explain any new or revised hypotheses for interval ratio data from your own project or from Charlie's grant and loan repayment data\n",
    "\n",
    "[Your answer here should explain:\n",
    "1. What are your dependent variables? Why do they interest you?\n",
    "2. What are your independent variables? What direction to you hypothesize will be the relationship between your dependent variable and your dependent variables?\n",
    "3. Why do you think your dependent variables are associated with your independent variables?\n",
    "4. What are your control variables? Do you think they will show any spurious, intervening, or interactive relationships? Why?]\n",
    "\n",
    "If you are working with the grant and loan repayment data, formulate hypotheses about:\n",
    "1. The relationship between state grant aid per student and the level of research at a university\n",
    "2. The relationship between loan repayment and college net price for low-income students. The later variable is name **netprice4lowincome**"
   ]
  },
  {
   "cell_type": "markdown",
   "metadata": {},
   "source": [
    "1. My dependent variables are state grant aid per student and loan payment. As shown in Eaton et al (2020), students at less research intensive find it easier to pay off their debt. Also, state grant aid is dependent on the research intensiveness of the school. \n",
    "\n",
    "2. My independent variables are the level of research at a university and college net price for low-income students will have a negative relationship with nonpayment rates of student loans. \n",
    "\n",
    "3. It appears logical and also the study titled \"The Organizational Ecology of College Affordability: Research Activity, State Grant Aid Policies, and Student Debt at U.S. Public Universities,\" by Charlie Eaton et al. also point to the association between my dependent and independent variables.\n",
    "\n",
    "4. The control variables are admission and acceptance rates as shown in the article. The relationship can be said to be intervening because there is no interaction between these control variables and the dependent variables.\n",
    "\n",
    "Hypotheses\n",
    "\n",
    "1. Students at high research-intensive public universities have better access to need based state grant aid.\n",
    "\n",
    "2. Increase in college net price for low income students shapes students ability to repay loan \n"
   ]
  },
  {
   "cell_type": "markdown",
   "metadata": {},
   "source": [
    "### 2. Setting up your session\n",
    "\n",
    "In the code cell below, do the following:\n",
    "\n",
    "1. set current directory \n",
    "2. set more off \n",
    "3. create log file \n",
    "4. download the data from its source if it's available online\n",
    "5. read the data in [preferably only variables you are going to use]"
   ]
  },
  {
   "cell_type": "code",
   "execution_count": 1,
   "metadata": {},
   "outputs": [
    {
     "data": {
      "text/html": [
       "<style>div.jp-Notebook .datagrid-container {min-height: 448px; }</style>"
      ],
      "text/plain": [
       "<IPython.core.display.HTML object>"
      ]
     },
     "metadata": {},
     "output_type": "display_data"
    }
   ],
   "source": [
    "cd /Users/johnadeleke/Desktop/Stats2/soc211_assignment"
   ]
  },
  {
   "cell_type": "code",
   "execution_count": 2,
   "metadata": {},
   "outputs": [
    {
     "name": "stdout",
     "output_type": "stream",
     "text": [
      "(-set more- irrelevant in this version of Stata)\n"
     ]
    }
   ],
   "source": [
    "set more off"
   ]
  },
  {
   "cell_type": "code",
   "execution_count": 3,
   "metadata": {},
   "outputs": [
    {
     "name": "stdout",
     "output_type": "stream",
     "text": [
      "-------------------------------------------------------------------------------\n",
      "      name:  <unnamed>\n",
      "       log:  /Users/johnadeleke/Desktop/Stats2/soc211_assignment/Log for Proble\n",
      "> m Set 2.log\n",
      "  log type:  text\n",
      " opened on:  19 Feb 2024, 19:36:33\n"
     ]
    }
   ],
   "source": [
    "log using \"Log for Problem Set 2.log\", replace"
   ]
  },
  {
   "cell_type": "code",
   "execution_count": 4,
   "metadata": {},
   "outputs": [
    {
     "name": "stdout",
     "output_type": "stream",
     "text": [
      "(8 vars, 581 obs)\n"
     ]
    }
   ],
   "source": [
    "insheet using grants2015_college_affordability20200218.csv, clear"
   ]
  },
  {
   "cell_type": "code",
   "execution_count": 5,
   "metadata": {},
   "outputs": [
    {
     "name": "stdout",
     "output_type": "stream",
     "text": [
      "\n",
      "Contains data\n",
      " Observations:           581                  \n",
      "    Variables:             8                  \n",
      "-------------------------------------------------------------------------------\n",
      "Variable      Storage   Display    Value\n",
      "    name         type    format    label      Variable label\n",
      "-------------------------------------------------------------------------------\n",
      "year            int     %8.0g                 \n",
      "instnm          str64   %64s                  \n",
      "stabbr          str2    %9s                   \n",
      "control         byte    %8.0g                 \n",
      "hgroup          str19   %19s                  \n",
      "highdeg         byte    %8.0g                 \n",
      "igrnt_low_inc   float   %9.0g                 \n",
      "sgrnt_low_inc   float   %9.0g                 \n",
      "-------------------------------------------------------------------------------\n",
      "Sorted by: \n",
      "     Note: Dataset has changed since last saved.\n"
     ]
    }
   ],
   "source": [
    "describe"
   ]
  },
  {
   "cell_type": "code",
   "execution_count": 6,
   "metadata": {},
   "outputs": [],
   "source": [
    "quietly {\n",
    "rename hgroup hgroupstring\n",
    "encode hgroupstring, gen(hgrouptemp)\n",
    "recode hgrouptemp (1=1 \"Highest\") (2=3 \"High\") (3=2 \"Very high\") (4=4 \"Some/None\"), gen(hgroup)\n",
    "qui label var igrnt_low \"institutional grant $ per fte\"\n",
    "qui label var sgrnt_low \"state grant $ per fte\"\n",
    "qui label var hgroup \"research level\"\n",
    "}"
   ]
  },
  {
   "cell_type": "code",
   "execution_count": 7,
   "metadata": {},
   "outputs": [
    {
     "data": {
      "text/html": [
       "<div>\n",
       "<style scoped>\n",
       "    .dataframe tbody tr th:only-of-type {\n",
       "        vertical-align: middle;\n",
       "    }\n",
       "\n",
       "    .dataframe tbody tr th {\n",
       "        vertical-align: top;\n",
       "    }\n",
       "\n",
       "    .dataframe thead th {\n",
       "        text-align: right;\n",
       "    }\n",
       "</style>\n",
       "<table border=\"1\" class=\"dataframe\">\n",
       "  <thead>\n",
       "    <tr style=\"text-align: right;\">\n",
       "      <th></th>\n",
       "      <th>year</th>\n",
       "      <th>instnm</th>\n",
       "      <th>stabbr</th>\n",
       "      <th>control</th>\n",
       "      <th>hgroupstring</th>\n",
       "      <th>highdeg</th>\n",
       "      <th>igrnt_low_inc</th>\n",
       "      <th>sgrnt_low_inc</th>\n",
       "      <th>hgrouptemp</th>\n",
       "      <th>hgroup</th>\n",
       "    </tr>\n",
       "  </thead>\n",
       "  <tbody>\n",
       "    <tr>\n",
       "      <th>1</th>\n",
       "      <td>2015</td>\n",
       "      <td>University of Alaska Anchorage</td>\n",
       "      <td>AK</td>\n",
       "      <td>1</td>\n",
       "      <td>Other RU Public</td>\n",
       "      <td>4</td>\n",
       "      <td>3527.888</td>\n",
       "      <td>5126.689</td>\n",
       "      <td>Other RU Public</td>\n",
       "      <td>Some/None</td>\n",
       "    </tr>\n",
       "    <tr>\n",
       "      <th>2</th>\n",
       "      <td>2015</td>\n",
       "      <td>University of Alaska Southeast</td>\n",
       "      <td>AK</td>\n",
       "      <td>1</td>\n",
       "      <td>Other RU Public</td>\n",
       "      <td>4</td>\n",
       "      <td>3371.517</td>\n",
       "      <td>3182.448</td>\n",
       "      <td>Other RU Public</td>\n",
       "      <td>Some/None</td>\n",
       "    </tr>\n",
       "    <tr>\n",
       "      <th>3</th>\n",
       "      <td>2015</td>\n",
       "      <td>University of Alaska Fairbanks</td>\n",
       "      <td>AK</td>\n",
       "      <td>1</td>\n",
       "      <td>HRA Public</td>\n",
       "      <td>4</td>\n",
       "      <td>6791.518</td>\n",
       "      <td>9233.675</td>\n",
       "      <td>HRA Public</td>\n",
       "      <td>High</td>\n",
       "    </tr>\n",
       "    <tr>\n",
       "      <th>4</th>\n",
       "      <td>2015</td>\n",
       "      <td>University of South Alabama</td>\n",
       "      <td>AL</td>\n",
       "      <td>1</td>\n",
       "      <td>HRA Public</td>\n",
       "      <td>4</td>\n",
       "      <td>6839.169</td>\n",
       "      <td>129.9652</td>\n",
       "      <td>HRA Public</td>\n",
       "      <td>High</td>\n",
       "    </tr>\n",
       "    <tr>\n",
       "      <th>5</th>\n",
       "      <td>2015</td>\n",
       "      <td>Auburn University-Montgomery</td>\n",
       "      <td>AL</td>\n",
       "      <td>1</td>\n",
       "      <td>Other RU Public</td>\n",
       "      <td>4</td>\n",
       "      <td>2955.426</td>\n",
       "      <td>39.06705</td>\n",
       "      <td>Other RU Public</td>\n",
       "      <td>Some/None</td>\n",
       "    </tr>\n",
       "  </tbody>\n",
       "</table>\n",
       "</div>"
      ]
     },
     "metadata": {},
     "output_type": "display_data"
    }
   ],
   "source": [
    "%head"
   ]
  },
  {
   "cell_type": "markdown",
   "metadata": {},
   "source": [
    "### 3. Create a bar graph with confidence interval whiskers\n",
    "\n",
    "Create a bar graph that compares interval ratio data for a dependent variable across different nominal categories from an independent variable. If you are using Charlie's data, do this for the state grant aid per low income student variable name **sgrnt_low**"
   ]
  },
  {
   "cell_type": "code",
   "execution_count": 8,
   "metadata": {},
   "outputs": [],
   "source": [
    "bysort hgroup: egen mn_sgrnt_low_inc=mean(sgrnt_low_inc)"
   ]
  },
  {
   "cell_type": "code",
   "execution_count": 9,
   "metadata": {},
   "outputs": [],
   "source": [
    "gen sqdv_sgrnt_low_inc=(sgrnt_low_inc-mn_sgrnt_low_inc)^2"
   ]
  },
  {
   "cell_type": "code",
   "execution_count": 10,
   "metadata": {},
   "outputs": [],
   "source": [
    "collapse ///\n",
    "(count) n=sgrnt_low_inc ///\n",
    "(first) mn_sgrnt_low_inc ///\n",
    "(sum) ssqdv_sgrnt_low_inc= sqdv_sgrnt_low_inc ///\n",
    ", by(hgroup)"
   ]
  },
  {
   "cell_type": "code",
   "execution_count": 11,
   "metadata": {},
   "outputs": [
    {
     "data": {
      "text/html": [
       "<div>\n",
       "<style scoped>\n",
       "    .dataframe tbody tr th:only-of-type {\n",
       "        vertical-align: middle;\n",
       "    }\n",
       "\n",
       "    .dataframe tbody tr th {\n",
       "        vertical-align: top;\n",
       "    }\n",
       "\n",
       "    .dataframe thead th {\n",
       "        text-align: right;\n",
       "    }\n",
       "</style>\n",
       "<table border=\"1\" class=\"dataframe\">\n",
       "  <thead>\n",
       "    <tr style=\"text-align: right;\">\n",
       "      <th></th>\n",
       "      <th>hgroup</th>\n",
       "      <th>n</th>\n",
       "      <th>mn_sgrnt_low_inc</th>\n",
       "      <th>ssqdv_sgrnt_low_inc</th>\n",
       "    </tr>\n",
       "  </thead>\n",
       "  <tbody>\n",
       "    <tr>\n",
       "      <th>1</th>\n",
       "      <td>Highest</td>\n",
       "      <td>34</td>\n",
       "      <td>6340.64</td>\n",
       "      <td>1.80e+09</td>\n",
       "    </tr>\n",
       "    <tr>\n",
       "      <th>2</th>\n",
       "      <td>Very high</td>\n",
       "      <td>37</td>\n",
       "      <td>6196.042</td>\n",
       "      <td>1.58e+09</td>\n",
       "    </tr>\n",
       "    <tr>\n",
       "      <th>3</th>\n",
       "      <td>High</td>\n",
       "      <td>72</td>\n",
       "      <td>3874.735</td>\n",
       "      <td>1.20e+09</td>\n",
       "    </tr>\n",
       "    <tr>\n",
       "      <th>4</th>\n",
       "      <td>Some/None</td>\n",
       "      <td>438</td>\n",
       "      <td>3109.573</td>\n",
       "      <td>3.13e+09</td>\n",
       "    </tr>\n",
       "  </tbody>\n",
       "</table>\n",
       "</div>"
      ]
     },
     "metadata": {},
     "output_type": "display_data"
    }
   ],
   "source": [
    "%head"
   ]
  },
  {
   "cell_type": "code",
   "execution_count": 12,
   "metadata": {},
   "outputs": [],
   "source": [
    "gen sd_sgrnt_low_inc=sqrt(ssqdv_sgrnt_low_inc/(n-1))"
   ]
  },
  {
   "cell_type": "code",
   "execution_count": 13,
   "metadata": {},
   "outputs": [],
   "source": [
    "gen se_sgrnt_low_inc= sd_sgrnt_low_inc/sqrt(n-1)"
   ]
  },
  {
   "cell_type": "code",
   "execution_count": 14,
   "metadata": {
    "scrolled": true
   },
   "outputs": [],
   "source": [
    "generate hi_sgrnt_low_inc = mn_sgrnt_low_inc + 1.96 * se_sgrnt_low_inc\n",
    "generate lo_sgrnt_low_inc = mn_sgrnt_low_inc - 1.96 * se_sgrnt_low_inc"
   ]
  },
  {
   "cell_type": "code",
   "execution_count": 15,
   "metadata": {},
   "outputs": [
    {
     "data": {
      "image/png": "[encoded data removed]",
      "text/plain": [
       "<IPython.core.display.Image object>"
      ]
     },
     "metadata": {},
     "output_type": "display_data"
    }
   ],
   "source": [
    "graph twoway (bar mn_sgrnt_low hgroup, barw(.5)) ///\n",
    "(rcap hi_sgrnt_low lo_sgrnt_low hgroup) , ///\n",
    "xlabel( 1 \"Highest\" 2 \"High\" 3 \"Very High\" 4 \"Some/None\", noticks) ///\n",
    "ytitle(\"State grant aid per low income student ($)\") ///\n",
    "ylabel(0(5000)20000, format(%10.0fc)) ///\n",
    "xtitle(\"Research Intensiveness\") legend(off) name(igrntbar, replace) ///\n",
    "title(\"State Grant Aid per Low-Income Student by Type of Research University\")  ///\n",
    "yline(1936.825, lp(_) lcolor(red) lstyle(foreground)) scheme(plotplainblind)"
   ]
  },
  {
   "cell_type": "markdown",
   "metadata": {},
   "source": [
    "### 4. Summarize what you learned from the bar graph\n",
    "\n",
    "Do the confidence intervals overlap across categories or not? What does this mean?"
   ]
  },
  {
   "cell_type": "markdown",
   "metadata": {},
   "source": [
    "The relationship is not statistically sigificant because of the overlap of the whiskers (confidence intervals). This overlapping shows that there may not be differences in the population means of different universities iwth reseaech intensiveness."
   ]
  },
  {
   "cell_type": "markdown",
   "metadata": {},
   "source": [
    "### 4. Estimate OLS regression statistics for the relationship between two interval ratio variables and ouput the table below\n",
    "\n",
    "If you use Charlie's data, use the loan repayment variable and the **netprice4lowincome** variable."
   ]
  },
  {
   "cell_type": "code",
   "execution_count": 17,
   "metadata": {},
   "outputs": [
    {
     "name": "stdout",
     "output_type": "stream",
     "text": [
      "(19 vars, 33 obs)\n",
      "opeid               stabbr              spend_ugd_4yr_low   instatetuition\n",
      "acceptrate          hgroup              x_aid_bysticker     xstring\n",
      "y_lo_inc_rpy        upgrntn             sgrnt_low_inc       ystring\n",
      "lo_inc_debt_mdn     all_under           igrnt_low_inc       markerlabel\n",
      "instnm              netprice4lowincome  sandigrnt_low_inc\n"
     ]
    }
   ],
   "source": [
    "insheet using loanrepay2013_highestresearch.csv, clear\n",
    "ds, varwidth(25)"
   ]
  },
  {
   "cell_type": "code",
   "execution_count": 18,
   "metadata": {},
   "outputs": [
    {
     "name": "stdout",
     "output_type": "stream",
     "text": [
      "\n",
      "      Source |       SS           df       MS      Number of obs   =        33\n",
      "-------------+----------------------------------   F(1, 31)        =      8.48\n",
      "       Model |  473.546336         1  473.546336   Prob > F        =    0.0066\n",
      "    Residual |  1730.93895        31  55.8367402   R-squared       =    0.2148\n",
      "-------------+----------------------------------   Adj R-squared   =    0.1895\n",
      "       Total |  2204.48528        32  68.8901651   Root MSE        =    7.4724\n",
      "\n",
      "------------------------------------------------------------------------------\n",
      "y_lo_inc_rpy | Coefficient  Std. err.      t    P>|t|     [95% conf. interval]\n",
      "-------------+----------------------------------------------------------------\n",
      "netprice4l~e |  -.0011662   .0004005    -2.91   0.007    -.0019829   -.0003495\n",
      "       _cons |   76.56364   3.782187    20.24   0.000     68.84982    84.27746\n",
      "------------------------------------------------------------------------------\n"
     ]
    }
   ],
   "source": [
    "regress y_lo_inc_rpy netprice4lowincome"
   ]
  },
  {
   "cell_type": "markdown",
   "metadata": {},
   "source": [
    "### 5. Interpret the output\n",
    "\n",
    "1. What is the coefficient for your independent variable? What does it say about the size and direction of the relationship you estimated?\n",
    "\n",
    "2. What is the p-value for the coefficient for your independent variable? What does it indicate about how much confidence we can have in the estimated relationship?\n",
    "\n",
    "3. What is the $r^2$ coefficient of determination? What does it say about how much variation in your dependent variable is explained by the independent variable?\n",
    "\n",
    "4. What is the F-ratio for your $r^2$. What does it indicate about how much confidence we can have in the $r^2$ estimate?\n",
    "\n"
   ]
  },
  {
   "cell_type": "code",
   "execution_count": null,
   "metadata": {},
   "outputs": [],
   "source": [
    "1. The coefficient for the independent variable, netprice4lowincome, is -.0011662. This shows a very small negative \n",
    "relationship between the independent and dependent variable.\n",
    "\n",
    "2. The p-value is .007, less than .05, which shows that the relationship is statistically significant.\n",
    "\n",
    "3. As shown in thge output above, the coefficient of determination is .21. This means that 21% of variation in the \n",
    "dependent variable is explained by the independent variable.\n",
    "\n",
    "4. The f-ratiois 8.48 which is larger than 4.16, therefore, we have high confidence in the r-squared value."
   ]
  },
  {
   "cell_type": "markdown",
   "metadata": {},
   "source": [
    "### 6. Illustrate the OLS relationship with a scatter plot that includes a fitted line"
   ]
  },
  {
   "cell_type": "code",
   "execution_count": 19,
   "metadata": {},
   "outputs": [
    {
     "data": {
      "image/png": "[encoded data removed]",
      "text/plain": [
       "<IPython.core.display.Image object>"
      ]
     },
     "metadata": {},
     "output_type": "display_data"
    }
   ],
   "source": [
    "tw (scatter y_lo_inc_rpy netprice4lowincome) ///\n",
    "(lfit y_lo_inc_rpy netprice4lowincome, color(red)), ///\n",
    "ytitle(\"% Loan repayment\") ///\n",
    "xtitle(\"Net price paid per low income student\") legend(off) scheme(plotplainblind)"
   ]
  },
  {
   "cell_type": "code",
   "execution_count": 20,
   "metadata": {},
   "outputs": [
    {
     "name": "stdout",
     "output_type": "stream",
     "text": [
      "      name:  <unnamed>\n",
      "       log:  /Users/johnadeleke/Desktop/Stats2/soc211_assignment/Log for Proble\n",
      "> m Set 2.log\n",
      "  log type:  text\n",
      " closed on:  19 Feb 2024, 20:55:29\n",
      "-------------------------------------------------------------------------------\n"
     ]
    }
   ],
   "source": [
    "log close "
   ]
  },
  {
   "cell_type": "code",
   "execution_count": null,
   "metadata": {},
   "outputs": [],
   "source": []
  }
 ],
 "metadata": {
  "kernelspec": {
   "display_name": "Stata (nbstata)",
   "language": "stata",
   "name": "nbstata"
  },
  "language_info": {
   "file_extension": ".do",
   "mimetype": "text/x-stata",
   "name": "stata",
   "version": "17"
  }
 },
 "nbformat": 4,
 "nbformat_minor": 4
}
