{
 "cells": [
  {
   "cell_type": "code",
   "execution_count": null,
   "metadata": {},
   "outputs": [],
   "source": []
  },
  {
   "cell_type": "markdown",
   "metadata": {},
   "source": [
    "# Research assignment 4\n",
    "\n",
    "John Adeleke\n",
    "\n",
    "Educational attainment and health insurance coverage in urban and rural Nigeria\n",
    "\n",
    "03/11/2024"
   ]
  },
  {
   "cell_type": "code",
   "execution_count": 1,
   "metadata": {},
   "outputs": [
    {
     "data": {
      "text/html": [
       "<style>div.jp-Notebook .datagrid-container {min-height: 448px; }</style>"
      ],
      "text/plain": [
       "<IPython.core.display.HTML object>"
      ]
     },
     "metadata": {},
     "output_type": "display_data"
    }
   ],
   "source": [
    "eststo clear"
   ]
  },
  {
   "cell_type": "code",
   "execution_count": 2,
   "metadata": {},
   "outputs": [
    {
     "name": "stdout",
     "output_type": "stream",
     "text": [
      "/Users/johnadeleke/Desktop/Stats2/soc211_assignment\n"
     ]
    }
   ],
   "source": [
    "cd \"/Users/johnadeleke/Desktop/Stats2/soc211_assignment\" "
   ]
  },
  {
   "cell_type": "code",
   "execution_count": 3,
   "metadata": {},
   "outputs": [
    {
     "name": "stdout",
     "output_type": "stream",
     "text": [
      "(-set more- irrelevant in this version of Stata)\n"
     ]
    }
   ],
   "source": [
    "set more off"
   ]
  },
  {
   "cell_type": "markdown",
   "metadata": {},
   "source": [
    "log using \"Log for Research Assignment4.log\", replace"
   ]
  },
  {
   "cell_type": "code",
   "execution_count": 4,
   "metadata": {},
   "outputs": [
    {
     "name": "stdout",
     "output_type": "stream",
     "text": [
      "\n"
     ]
    }
   ],
   "source": [
    "set maxvar 120000"
   ]
  },
  {
   "cell_type": "code",
   "execution_count": 5,
   "metadata": {},
   "outputs": [],
   "source": [
    "use /Users/johnadeleke/Desktop/Stats2/soc211_assignment/NGIR7BDT/NGIR7BFL.DTA"
   ]
  },
  {
   "cell_type": "code",
   "execution_count": 6,
   "metadata": {},
   "outputs": [],
   "source": [
    "use v106 v025 v481 using \"NGIR7BDT/NGIR7BFL.DTA\", clear"
   ]
  },
  {
   "cell_type": "code",
   "execution_count": 7,
   "metadata": {},
   "outputs": [
    {
     "name": "stdout",
     "output_type": "stream",
     "text": [
      "\n",
      "Variable      Storage   Display    Value\n",
      "    name         type    format    label      Variable label\n",
      "-------------------------------------------------------------------------------\n",
      "v106            byte    %8.0g      V106       highest educational level\n",
      "v025            byte    %8.0g      V025       type of place of residence\n",
      "v481            byte    %8.0g      V481       covered by health insurance\n"
     ]
    }
   ],
   "source": [
    "describe v106 v025 v481"
   ]
  },
  {
   "cell_type": "code",
   "execution_count": 8,
   "metadata": {},
   "outputs": [
    {
     "name": "stdout",
     "output_type": "stream",
     "text": [
      "\n",
      "-------------------------------------------------------------------------------\n",
      "v106                                                  highest educational level\n",
      "-------------------------------------------------------------------------------\n",
      "\n",
      "                  Type: Numeric (byte)\n",
      "                 Label: V106\n",
      "\n",
      "                 Range: [0,3]                         Units: 1\n",
      "         Unique values: 4                         Missing .: 0/41,821\n",
      "\n",
      "            Tabulation: Freq.   Numeric  Label\n",
      "                       14,398         0  no education\n",
      "                        6,383         1  primary\n",
      "                       16,698         2  secondary\n",
      "                        4,342         3  higher\n",
      "\n",
      "-------------------------------------------------------------------------------\n",
      "v025                                                 type of place of residence\n",
      "-------------------------------------------------------------------------------\n",
      "\n",
      "                  Type: Numeric (byte)\n",
      "                 Label: V025\n",
      "\n",
      "                 Range: [1,2]                         Units: 1\n",
      "         Unique values: 2                         Missing .: 0/41,821\n",
      "\n",
      "            Tabulation: Freq.   Numeric  Label\n",
      "                       16,984         1  urban\n",
      "                       24,837         2  rural\n",
      "\n",
      "-------------------------------------------------------------------------------\n",
      "v481                                                covered by health insurance\n",
      "-------------------------------------------------------------------------------\n",
      "\n",
      "                  Type: Numeric (byte)\n",
      "                 Label: V481\n",
      "\n",
      "                 Range: [0,1]                         Units: 1\n",
      "         Unique values: 2                         Missing .: 0/41,821\n",
      "\n",
      "            Tabulation: Freq.   Numeric  Label\n",
      "                       40,704         0  no\n",
      "                        1,117         1  yes\n"
     ]
    }
   ],
   "source": [
    "codebook v106 v025 v481"
   ]
  },
  {
   "cell_type": "code",
   "execution_count": 9,
   "metadata": {},
   "outputs": [
    {
     "name": "stdout",
     "output_type": "stream",
     "text": [
      "\n",
      "     highest |\n",
      " educational |\n",
      "       level |      Freq.     Percent        Cum.\n",
      "-------------+-----------------------------------\n",
      "no education |     14,398       34.43       34.43\n",
      "     primary |      6,383       15.26       49.69\n",
      "   secondary |     16,698       39.93       89.62\n",
      "      higher |      4,342       10.38      100.00\n",
      "-------------+-----------------------------------\n",
      "       Total |     41,821      100.00\n",
      "\n",
      "    type of |\n",
      "   place of |\n",
      "  residence |      Freq.     Percent        Cum.\n",
      "------------+-----------------------------------\n",
      "      urban |     16,984       40.61       40.61\n",
      "      rural |     24,837       59.39      100.00\n",
      "------------+-----------------------------------\n",
      "      Total |     41,821      100.00\n",
      "\n",
      " covered by |\n",
      "     health |\n",
      "  insurance |      Freq.     Percent        Cum.\n",
      "------------+-----------------------------------\n",
      "         no |     40,704       97.33       97.33\n",
      "        yes |      1,117        2.67      100.00\n",
      "------------+-----------------------------------\n",
      "      Total |     41,821      100.00\n"
     ]
    }
   ],
   "source": [
    "tab v106 \n",
    "tab v025 \n",
    "tab v481"
   ]
  },
  {
   "cell_type": "code",
   "execution_count": 10,
   "metadata": {},
   "outputs": [
    {
     "name": "stdout",
     "output_type": "stream",
     "text": [
      "\n",
      "             |     v106     v025\n",
      "-------------+------------------\n",
      "        v106 |   1.0000 \n",
      "        v025 |  -0.3653   1.0000 \n"
     ]
    }
   ],
   "source": [
    "pwcorr v106 v025"
   ]
  },
  {
   "cell_type": "markdown",
   "metadata": {},
   "source": [
    "## 1. Develop hypotheses about interactions between your independent variables [1 pt]\n",
    "\n",
    "You can use the GSS data, Student aid data, or your own data"
   ]
  },
  {
   "attachments": {},
   "cell_type": "markdown",
   "metadata": {},
   "source": [
    "    A. Write at least one hypothesis involving one of the two following types of interactions\n",
    "        \n",
    "    A. I hypothesize that the effect of education on health insurance coverage may differ for women in urban areas compared to those in rural areas. \n",
    "        \n",
    "    B. State the predicted direction of association between your dependent variable and:\n",
    "        1) each of the 2 independent variables by themselves\n",
    "  \n",
    "  Educational attainment: The predicted direction of association is positive. In other words, women with higher educational attainment are more likely to have health insurance coverage. As educational level increases, rate of health insurance coverage increases as well.\n",
    "  \n",
    "  Type of place of residence: The predicted direction of association will also be positive. That is, women living in urban areas are more likely to covered by health insurance than those living in rural areas. \n",
    "  \n",
    "    2) the interaction of the 2 indendent variables\n",
    "    \n",
    "  2. Women with higher education that reside in urban areas are more likely to have health insurance coverage than other women in Nigeria\n",
    "      \n",
    "    3) you can predict that there is no association\n",
    "    C. Write a couple sentences about the theoretical reasons (prior knowledge / research) for each of your predictions\n",
    "\n",
    "3&C). Health insurance coverage is crucial for better health outcomes and lessening the burden of health expenditure. However, there is an uneven distribution of health insurance coverage in Nigeria. Most existing studies evaluate the effect of health insurance coverage on educational attainment (Chen & Jin, 2012; Carlo et al., 2016; Zou & Cheng, 2023), but very few investigate how educational attainment shapes health insurance coverage. Based on past studies on socioeconomic resources (including education) and health insurance coverage, we can predict that there is an association between my dependent and independent variables.\n",
    "       \n",
    " "
   ]
  },
  {
   "cell_type": "markdown",
   "metadata": {},
   "source": [
    "## 2. Test your hypotheses [3 pts]\n",
    "\n",
    "    A. For each hypothesized interactive relationship: use regression with the appropriate interaction syntax to estimate 1 model with uninteracted variables and 1 model with interacted variables. Use --esttab to output a model with the 2 tables\n",
    "    \n",
    "    B. Use margins and marginsplot with the appropriate syntax to visually represent your regression adjusted estimates for given nominal categories or at given interval-ratio values"
   ]
  },
  {
   "cell_type": "code",
   "execution_count": 11,
   "metadata": {},
   "outputs": [
    {
     "name": "stdout",
     "output_type": "stream",
     "text": [
      "\n",
      "      Source |       SS           df       MS      Number of obs   =    41,821\n",
      "-------------+----------------------------------   F(2, 41818)     =    578.23\n",
      "       Model |  29.2561593         2  14.6280797   Prob > F        =    0.0000\n",
      "    Residual |  1057.90981    41,818  .025297953   R-squared       =    0.0269\n",
      "-------------+----------------------------------   Adj R-squared   =    0.0269\n",
      "       Total |  1087.16597    41,820  .025996317   Root MSE        =    .15905\n",
      "\n",
      "------------------------------------------------------------------------------\n",
      "        v481 | Coefficient  Std. err.      t    P>|t|     [95% conf. interval]\n",
      "-------------+----------------------------------------------------------------\n",
      "        v106 |   .0223014   .0008003    27.87   0.000     .0207328      .02387\n",
      "        v025 |  -.0135529   .0017013    -7.97   0.000    -.0168874   -.0102184\n",
      "       _cons |   .0201522   .0033137     6.08   0.000     .0136573    .0266472\n",
      "------------------------------------------------------------------------------\n",
      "(est1 stored)\n"
     ]
    }
   ],
   "source": [
    "eststo: reg v481 v106 v025 "
   ]
  },
  {
   "cell_type": "code",
   "execution_count": 12,
   "metadata": {},
   "outputs": [
    {
     "name": "stdout",
     "output_type": "stream",
     "text": [
      "\n",
      "      Source |       SS           df       MS      Number of obs   =    41,821\n",
      "-------------+----------------------------------   F(7, 41813)     =    334.07\n",
      "       Model |  57.5820492         7  8.22600702   Prob > F        =    0.0000\n",
      "    Residual |  1029.58392    41,813  .024623536   R-squared       =    0.0530\n",
      "-------------+----------------------------------   Adj R-squared   =    0.0528\n",
      "       Total |  1087.16597    41,820  .025996317   Root MSE        =    .15692\n",
      "\n",
      "------------------------------------------------------------------------------\n",
      "        v481 | Coefficient  Std. err.      t    P>|t|     [95% conf. interval]\n",
      "-------------+----------------------------------------------------------------\n",
      "        v106 |\n",
      "    primary  |   .0013147   .0044282     0.30   0.767    -.0073646    .0099941\n",
      "  secondary  |   .0187174   .0034477     5.43   0.000     .0119597     .025475\n",
      "     higher  |   .1310573   .0041428    31.64   0.000     .1229373    .1391772\n",
      "             |\n",
      "        v025 |\n",
      "      rural  |   -.004633   .0033494    -1.38   0.167    -.0111979    .0019318\n",
      "             |\n",
      "   v106#v025 |\n",
      "    primary #|\n",
      "      rural  |  -.0034482   .0052739    -0.65   0.513    -.0137851    .0068887\n",
      "  secondary #|\n",
      "      rural  |  -.0103419   .0041401    -2.50   0.012    -.0184566   -.0022272\n",
      "     higher #|\n",
      "      rural  |  -.0334545   .0062016    -5.39   0.000    -.0456098   -.0212992\n",
      "             |\n",
      "       _cons |    .011473   .0030188     3.80   0.000     .0055561    .0173899\n",
      "------------------------------------------------------------------------------\n",
      "(est2 stored)\n"
     ]
    }
   ],
   "source": [
    "eststo: reg v481 i.v106##i.v025 "
   ]
  },
  {
   "cell_type": "code",
   "execution_count": 13,
   "metadata": {},
   "outputs": [
    {
     "name": "stdout",
     "output_type": "stream",
     "text": [
      "\n",
      "--------------------------------------------\n",
      "                      (1)             (2)   \n",
      "                  Model 1            est2   \n",
      "                     b/se            b/se   \n",
      "--------------------------------------------\n",
      "Education           0.022***                \n",
      "                  (0.001)                   \n",
      "Residence          -0.014***                \n",
      "                  (0.002)                   \n",
      "1.v106                              0.001   \n",
      "                                  (0.004)   \n",
      "2.v106                              0.019***\n",
      "                                  (0.003)   \n",
      "3.v106                              0.131***\n",
      "                                  (0.004)   \n",
      "2.v025                             -0.005   \n",
      "                                  (0.003)   \n",
      "1.v106#2~025                       -0.003   \n",
      "                                  (0.005)   \n",
      "2.v106#2~025                       -0.010*  \n",
      "                                  (0.004)   \n",
      "3.v106#2~025                       -0.033***\n",
      "                                  (0.006)   \n",
      "--------------------------------------------\n",
      "R-Squared           0.027           0.053   \n",
      "N               41821.000       41821.000   \n",
      "--------------------------------------------\n"
     ]
    }
   ],
   "source": [
    "esttab, stats(r2 N, labels(\"R-Squared\" \"N\")) cells(b(star fmt(3)) se(fmt(3) par)) /// \n",
    "  nobase mlabels (\"Model 1\") starlevels(* .05 ** .01 *** .001) ///\n",
    "  coeflabels (v106 \"Education\" v025 \"Residence\") noconstant"
   ]
  },
  {
   "cell_type": "code",
   "execution_count": 14,
   "metadata": {},
   "outputs": [
    {
     "name": "stdout",
     "output_type": "stream",
     "text": [
      "graph size was (5.5in, 4in), is now (11, 4in).\n"
     ]
    }
   ],
   "source": [
    "%set graph_width = 11"
   ]
  },
  {
   "cell_type": "code",
   "execution_count": 15,
   "metadata": {},
   "outputs": [
    {
     "name": "stdout",
     "output_type": "stream",
     "text": [
      "graph size was (11, 4in), is now (11, 8).\n"
     ]
    }
   ],
   "source": [
    "%set graph_height = 8"
   ]
  },
  {
   "cell_type": "code",
   "execution_count": 16,
   "metadata": {},
   "outputs": [
    {
     "name": "stdout",
     "output_type": "stream",
     "text": [
      "\n",
      "Variables that uniquely identify margins: v106 v025\n"
     ]
    },
    {
     "data": {
      "image/png": "[encoded data removed]",
      "text/plain": [
       "<IPython.core.display.Image object>"
      ]
     },
     "metadata": {},
     "output_type": "display_data"
    }
   ],
   "source": [
    "quietly reg v481 i.v106##i.v025 \n",
    "quietly margins i.v106, over(v025) atmeans\n",
    "marginsplot, recast(scatter) scheme(538w)"
   ]
  },
  {
   "cell_type": "code",
   "execution_count": 17,
   "metadata": {},
   "outputs": [
    {
     "data": {
      "image/png": "[encoded data removed]",
      "text/plain": [
       "<IPython.core.display.Image object>"
      ]
     },
     "metadata": {},
     "output_type": "display_data"
    }
   ],
   "source": [
    "graph bar v481, over(v025) over(v106) asyvars ytitle (health insurance coverage ) ///\n",
    "  blabel(bar, format(%7.0fc)) legend(rows(1) position(1) ring(0)) scheme(538w)"
   ]
  },
  {
   "cell_type": "markdown",
   "metadata": {},
   "source": [
    "## 3. Interpret your results [1 pt]\n",
    "\n",
    "Write a couple sentences answering each of the following questions:"
   ]
  },
  {
   "cell_type": "markdown",
   "metadata": {},
   "source": [
    "    A. Do the results support or contradict each of your hypotheses?\n",
    "    \n",
    "    A. It appears that the output support my hypothesis that Women with higher education that reside in urban areas are more likely to have health insurance coverage than other women in Nigeria. We can see that number of women with health insurance coverage increases as their level of education advances, and higher number for those in urban areas.\n",
    "    \n",
    "    B. Why do the regression coefficients support or contradict your hypotheses?\n",
    "    \n",
    " B. The regression coefficients support my hypotheses as evident in the significantly low p-values (-0.033,  0.022, -0.014). \n",
    "    \n",
    "    C. Why do your regression adjusted estimates from margins for nominal categories or given interval-ratio values support or contradict your hypotheses?\n",
    "    \n",
    "    C. The regression adjusted estimates from the margins for nominal categories supports my hypotheses because as level of education increases, the chance of having health insurance subscription also increase even when I included type of place of residence in the model. \n",
    "    "
   ]
  }
 ],
 "metadata": {
  "kernelspec": {
   "display_name": "Stata (nbstata)",
   "language": "stata",
   "name": "nbstata"
  },
  "language_info": {
   "file_extension": ".do",
   "mimetype": "text/x-stata",
   "name": "stata",
   "version": "17"
  }
 },
 "nbformat": 4,
 "nbformat_minor": 4
}
