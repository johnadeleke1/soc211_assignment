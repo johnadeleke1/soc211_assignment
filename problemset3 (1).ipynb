{
 "cells": [
  {
   "cell_type": "markdown",
   "metadata": {},
   "source": [
    "# Problem set 3\n",
    "\n",
    "John Adeleke\n",
    "\n",
    "Age and maternal health utilization in urban and rural areas of Nigeria.\n",
    "\n",
    "03/04/2024"
   ]
  },
  {
   "cell_type": "markdown",
   "metadata": {},
   "source": [
    "## 1. Develop hypotheses about two non-linear relationships [1 pt]\n",
    "\n",
    "You can use the GSS data, Student aid data, or your own data. Develop at least 2 hypotheses about non-linear relationships in your dataset of choice that do the following:\n",
    "\n",
    "A.H1: Increase in age will lead to increase in how frequent a woman utilize maternal healthcare in Nigeria.\n",
    "\n",
    "  H2: Change in type of place of residence will lead to increase in how frequent a woman utilize maternal healthcare in Nigeria. \n",
    "\n",
    "Age measures whether the age range of women of reproductive age in Nigeria (15-49), while maternal health utilization is measure by using the women's number of entries in pregnany and postnatal care roster. This shows the number of time they visited the hospital for any form of maternal care. Urban and rural connote the type of place of residence. These variables are continuous, except for type of place of residence that is nominal.\n",
    "\n",
    "B. My hypothesized relationships will take two non-linear relationships of splines and nominal models. \n",
    "    \n",
    "C. It appears logically that women who have advanced in age are more likey to utilize maternal health in Nigeria. Past studies have also pointed to the relationships between demographic factors like age shape maternal health utilization in Nigeria. Also, whether someone lives in an urban or rural area will also influence how often they get maternal healthcare due to disparities in healthcare infrastructure.  \n",
    "\n",
    "D. The dataset is the women recode from the 2018 demographic and health surveys. The sample captures women of reproductive age in Nigeria (15-49)"
   ]
  },
  {
   "cell_type": "code",
   "execution_count": 1,
   "metadata": {},
   "outputs": [
    {
     "data": {
      "text/html": [
       "<style>div.jp-Notebook .datagrid-container {min-height: 448px; }</style>"
      ],
      "text/plain": [
       "<IPython.core.display.HTML object>"
      ]
     },
     "metadata": {},
     "output_type": "display_data"
    },
    {
     "name": "stdout",
     "output_type": "stream",
     "text": [
      "/Users/johnadeleke/Desktop/Stats2/soc211_assignment\n"
     ]
    }
   ],
   "source": [
    "cd /Users/johnadeleke/Desktop/Stats2/soc211_assignment"
   ]
  },
  {
   "cell_type": "code",
   "execution_count": 2,
   "metadata": {},
   "outputs": [
    {
     "name": "stdout",
     "output_type": "stream",
     "text": [
      "(-set more- irrelevant in this version of Stata)\n"
     ]
    }
   ],
   "source": [
    "set more off"
   ]
  },
  {
   "cell_type": "code",
   "execution_count": 3,
   "metadata": {},
   "outputs": [
    {
     "name": "stdout",
     "output_type": "stream",
     "text": [
      "-------------------------------------------------------------------------------\n",
      "      name:  <unnamed>\n",
      "       log:  /Users/johnadeleke/Desktop/Stats2/soc211_assignment/Log for Proble\n",
      "> m Set 3.log\n",
      "  log type:  text\n",
      " opened on:   4 Mar 2024, 21:49:48\n"
     ]
    }
   ],
   "source": [
    "log using \"Log for Problem Set 3.log\", replace"
   ]
  },
  {
   "cell_type": "code",
   "execution_count": 4,
   "metadata": {},
   "outputs": [
    {
     "name": "stdout",
     "output_type": "stream",
     "text": [
      "\n"
     ]
    }
   ],
   "source": [
    "set maxvar 120000"
   ]
  },
  {
   "cell_type": "code",
   "execution_count": 5,
   "metadata": {},
   "outputs": [],
   "source": [
    "use /Users/johnadeleke/Desktop/Stats2/soc211_assignment/NGIR7BDT/NGIR7BFL.DTA"
   ]
  },
  {
   "cell_type": "code",
   "execution_count": 6,
   "metadata": {},
   "outputs": [
    {
     "name": "stdout",
     "output_type": "stream",
     "text": [
      "\n",
      "Variable      Storage   Display    Value\n",
      "    name         type    format    label      Variable label\n",
      "-------------------------------------------------------------------------------\n",
      "v106            byte    %8.0g      V106       highest educational level\n",
      "v013            byte    %8.0g      V013       age in 5-year groups\n",
      "v025            byte    %8.0g      V025       type of place of residence\n",
      "v481            byte    %8.0g      V481       covered by health insurance\n",
      "v417            byte    %8.0g                 entries in pregnancy and\n",
      "                                                postnatal care roster\n"
     ]
    }
   ],
   "source": [
    "describe v106 v013 v025 v481 v417"
   ]
  },
  {
   "cell_type": "code",
   "execution_count": 7,
   "metadata": {},
   "outputs": [
    {
     "name": "stdout",
     "output_type": "stream",
     "text": [
      "\n",
      "-------------------------------------------------------------------------------\n",
      "v106                                                  highest educational level\n",
      "-------------------------------------------------------------------------------\n",
      "\n",
      "                  Type: Numeric (byte)\n",
      "                 Label: V106\n",
      "\n",
      "                 Range: [0,3]                         Units: 1\n",
      "         Unique values: 4                         Missing .: 0/41,821\n",
      "\n",
      "            Tabulation: Freq.   Numeric  Label\n",
      "                       14,398         0  no education\n",
      "                        6,383         1  primary\n",
      "                       16,698         2  secondary\n",
      "                        4,342         3  higher\n",
      "\n",
      "-------------------------------------------------------------------------------\n",
      "v013                                                       age in 5-year groups\n",
      "-------------------------------------------------------------------------------\n",
      "\n",
      "                  Type: Numeric (byte)\n",
      "                 Label: V013\n",
      "\n",
      "                 Range: [1,7]                         Units: 1\n",
      "         Unique values: 7                         Missing .: 0/41,821\n",
      "\n",
      "            Tabulation: Freq.   Numeric  Label\n",
      "                        8,423         1  15-19\n",
      "                        6,844         2  20-24\n",
      "                        7,203         3  25-29\n",
      "                        5,997         4  30-34\n",
      "                        5,406         5  35-39\n",
      "                        4,057         6  40-44\n",
      "                        3,891         7  45-49\n",
      "\n",
      "-------------------------------------------------------------------------------\n",
      "v025                                                 type of place of residence\n",
      "-------------------------------------------------------------------------------\n",
      "\n",
      "                  Type: Numeric (byte)\n",
      "                 Label: V025\n",
      "\n",
      "                 Range: [1,2]                         Units: 1\n",
      "         Unique values: 2                         Missing .: 0/41,821\n",
      "\n",
      "            Tabulation: Freq.   Numeric  Label\n",
      "                       16,984         1  urban\n",
      "                       24,837         2  rural\n",
      "\n",
      "-------------------------------------------------------------------------------\n",
      "v481                                                covered by health insurance\n",
      "-------------------------------------------------------------------------------\n",
      "\n",
      "                  Type: Numeric (byte)\n",
      "                 Label: V481\n",
      "\n",
      "                 Range: [0,1]                         Units: 1\n",
      "         Unique values: 2                         Missing .: 0/41,821\n",
      "\n",
      "            Tabulation: Freq.   Numeric  Label\n",
      "                       40,704         0  no\n",
      "                        1,117         1  yes\n",
      "\n",
      "-------------------------------------------------------------------------------\n",
      "v417                             entries in pregnancy and postnatal care roster\n",
      "-------------------------------------------------------------------------------\n",
      "\n",
      "                  Type: Numeric (byte)\n",
      "\n",
      "                 Range: [0,6]                         Units: 1\n",
      "         Unique values: 7                         Missing .: 0/41,821\n",
      "\n",
      "            Tabulation: Freq.  Value\n",
      "                       20,029  0\n",
      "                       11,363  1\n",
      "                        8,852  2\n",
      "                        1,461  3\n",
      "                          108  4\n",
      "                            6  5\n",
      "                            2  6\n"
     ]
    }
   ],
   "source": [
    "codebook v106 v013 v025 v481 v417"
   ]
  },
  {
   "cell_type": "markdown",
   "metadata": {},
   "source": [
    "## 2. Conduct statistical tests for your hypothesized relationship: [3 pts]\n",
    "\n",
    "* Estimate at least 2 different types of non-linear models that test your hypotheses.\n",
    "\n",
    "* Use appropriate regression and graphical representations to represent each model.\n",
    "\n",
    "* Use esttab to compare between types of non-linear and linear models"
   ]
  },
  {
   "cell_type": "code",
   "execution_count": 8,
   "metadata": {},
   "outputs": [
    {
     "name": "stdout",
     "output_type": "stream",
     "text": [
      "\n",
      "    Variable |        Obs        Mean    Std. dev.       Min        Max\n",
      "-------------+---------------------------------------------------------\n",
      "        v417 |     41,821    .8111714    .9063227          0          6\n",
      "        v013 |     41,821    3.498649    1.934652          1          7\n"
     ]
    }
   ],
   "source": [
    "sum v417 v013"
   ]
  },
  {
   "cell_type": "code",
   "execution_count": 9,
   "metadata": {},
   "outputs": [],
   "source": [
    "xtile agequant = v013, nq(5)"
   ]
  },
  {
   "cell_type": "code",
   "execution_count": 10,
   "metadata": {},
   "outputs": [
    {
     "name": "stdout",
     "output_type": "stream",
     "text": [
      "\n",
      "                    age in 5-year groups\n",
      "-------------------------------------------------------------\n",
      "      Percentiles      Smallest\n",
      " 1%            1              1\n",
      " 5%            1              1\n",
      "10%            1              1       Obs              41,821\n",
      "25%            2              1       Sum of wgt.      41,821\n",
      "\n",
      "50%            3                      Mean           3.498649\n",
      "                        Largest       Std. dev.      1.934652\n",
      "75%            5              7\n",
      "90%            6              7       Variance       3.742878\n",
      "95%            7              7       Skewness       .3112002\n",
      "99%            7              7       Kurtosis       1.936921\n",
      "\n",
      "5 quantiles |\n",
      "    of v013 |      Freq.     Percent        Cum.\n",
      "------------+-----------------------------------\n",
      "          1 |      8,423       20.14       20.14\n",
      "          2 |     14,047       33.59       53.73\n",
      "          3 |      5,997       14.34       68.07\n",
      "          4 |      5,406       12.93       81.00\n",
      "          5 |      7,948       19.00      100.00\n",
      "------------+-----------------------------------\n",
      "      Total |     41,821      100.00\n"
     ]
    }
   ],
   "source": [
    "sum v013, detail\n",
    "tab agequant"
   ]
  },
  {
   "cell_type": "code",
   "execution_count": 11,
   "metadata": {},
   "outputs": [
    {
     "data": {
      "text/html": [
       "<div>\n",
       "<style scoped>\n",
       "    .dataframe tbody tr th:only-of-type {\n",
       "        vertical-align: middle;\n",
       "    }\n",
       "\n",
       "    .dataframe tbody tr th {\n",
       "        vertical-align: top;\n",
       "    }\n",
       "\n",
       "    .dataframe thead th {\n",
       "        text-align: right;\n",
       "    }\n",
       "</style>\n",
       "<table border=\"1\" class=\"dataframe\">\n",
       "  <thead>\n",
       "    <tr style=\"text-align: right;\">\n",
       "      <th></th>\n",
       "      <th>v417</th>\n",
       "      <th>v013</th>\n",
       "      <th>agequant</th>\n",
       "    </tr>\n",
       "  </thead>\n",
       "  <tbody>\n",
       "    <tr>\n",
       "      <th>1</th>\n",
       "      <td>1</td>\n",
       "      <td>40-44</td>\n",
       "      <td>5</td>\n",
       "    </tr>\n",
       "    <tr>\n",
       "      <th>2</th>\n",
       "      <td>0</td>\n",
       "      <td>15-19</td>\n",
       "      <td>1</td>\n",
       "    </tr>\n",
       "    <tr>\n",
       "      <th>3</th>\n",
       "      <td>1</td>\n",
       "      <td>35-39</td>\n",
       "      <td>4</td>\n",
       "    </tr>\n",
       "    <tr>\n",
       "      <th>4</th>\n",
       "      <td>1</td>\n",
       "      <td>25-29</td>\n",
       "      <td>2</td>\n",
       "    </tr>\n",
       "    <tr>\n",
       "      <th>5</th>\n",
       "      <td>0</td>\n",
       "      <td>25-29</td>\n",
       "      <td>2</td>\n",
       "    </tr>\n",
       "  </tbody>\n",
       "</table>\n",
       "</div>"
      ]
     },
     "metadata": {},
     "output_type": "display_data"
    }
   ],
   "source": [
    "%head v417 v013 agequant"
   ]
  },
  {
   "cell_type": "code",
   "execution_count": 12,
   "metadata": {},
   "outputs": [
    {
     "name": "stdout",
     "output_type": "stream",
     "text": [
      "\n",
      "    Variable |        Obs        Mean    Std. dev.       Min        Max\n",
      "-------------+---------------------------------------------------------\n",
      "        v013 |      5,997           4           0          4          4\n"
     ]
    }
   ],
   "source": [
    "sum v013 if agequant==3"
   ]
  },
  {
   "cell_type": "code",
   "execution_count": 13,
   "metadata": {},
   "outputs": [
    {
     "name": "stdout",
     "output_type": "stream",
     "text": [
      "(bin=46, start=1, width=.06521739)\n",
      "(bin=46, start=0, width=.06521739)\n"
     ]
    },
    {
     "data": {
      "image/png": "[encoded data removed]",
      "text/plain": [
       "<IPython.core.display.Image object>"
      ]
     },
     "metadata": {},
     "output_type": "display_data"
    },
    {
     "data": {
      "image/png": "[encoded data removed]",
      "text/plain": [
       "<IPython.core.display.Image object>"
      ]
     },
     "metadata": {},
     "output_type": "display_data"
    }
   ],
   "source": [
    "mkspline age1 4 age2 = v013\n",
    "\n",
    "histogram age1, name(hist1)\n",
    "histogram age2, name(hist2)"
   ]
  },
  {
   "cell_type": "code",
   "execution_count": 14,
   "metadata": {},
   "outputs": [
    {
     "name": "stdout",
     "output_type": "stream",
     "text": [
      "\n",
      "      Source |       SS           df       MS      Number of obs   =    41,821\n",
      "-------------+----------------------------------   F(2, 41818)     =   5546.75\n",
      "       Model |  7202.24705         2  3601.12352   Prob > F        =    0.0000\n",
      "    Residual |  27149.5737    41,818  .649231758   R-squared       =    0.2097\n",
      "-------------+----------------------------------   Adj R-squared   =    0.2096\n",
      "       Total |  34351.8207    41,820  .821420868   Root MSE        =    .80575\n",
      "\n",
      "------------------------------------------------------------------------------\n",
      "        v417 | Coefficient  Std. err.      t    P>|t|     [95% conf. interval]\n",
      "-------------+----------------------------------------------------------------\n",
      "        age1 |   .3786051   .0039893    94.90   0.000     .3707859    .3864242\n",
      "        age2 |  -.4345484   .0047756   -90.99   0.000    -.4439086   -.4251882\n",
      "       _cons |  -.0235906   .0109575    -2.15   0.031    -.0450674   -.0021137\n",
      "------------------------------------------------------------------------------\n",
      "(option xb assumed; fitted values)\n"
     ]
    }
   ],
   "source": [
    "reg v417 age1 age2\n",
    "predict yhat\n"
   ]
  },
  {
   "cell_type": "code",
   "execution_count": 15,
   "metadata": {},
   "outputs": [
    {
     "name": "stdout",
     "output_type": "stream",
     "text": [
      "graph size was (5.5in, 4in), is now (11, 4in).\n"
     ]
    }
   ],
   "source": [
    "%set graph_width = 11"
   ]
  },
  {
   "cell_type": "code",
   "execution_count": 16,
   "metadata": {},
   "outputs": [
    {
     "data": {
      "image/png": "[encoded data removed]",
      "text/plain": [
       "<IPython.core.display.Image object>"
      ]
     },
     "metadata": {},
     "output_type": "display_data"
    }
   ],
   "source": [
    "*Spline model \n",
    "\n",
    "tw (scatter v417 v013) (line yhat v013, sort color(red) lwidth(thick))"
   ]
  },
  {
   "cell_type": "code",
   "execution_count": 17,
   "metadata": {},
   "outputs": [
    {
     "name": "stdout",
     "output_type": "stream",
     "text": [
      "\n",
      "             |     knot1      knot2      knot3      knot4      knot5 \n",
      "-------------+-------------------------------------------------------\n",
      "        v013 |         1          2          3          5          7 \n"
     ]
    }
   ],
   "source": [
    "mkspline age3 = v013, cubic displayknots"
   ]
  },
  {
   "cell_type": "code",
   "execution_count": 18,
   "metadata": {},
   "outputs": [
    {
     "name": "stdout",
     "output_type": "stream",
     "text": [
      "\n",
      "      Source |       SS           df       MS      Number of obs   =    41,821\n",
      "-------------+----------------------------------   F(4, 41816)     =   3414.90\n",
      "       Model |  8458.34554         4  2114.58639   Prob > F        =    0.0000\n",
      "    Residual |  25893.4752    41,816  .619224105   R-squared       =    0.2462\n",
      "-------------+----------------------------------   Adj R-squared   =    0.2462\n",
      "       Total |  34351.8207    41,820  .821420868   Root MSE        =    .78691\n",
      "\n",
      "------------------------------------------------------------------------------\n",
      "        v417 | Coefficient  Std. err.      t    P>|t|     [95% conf. interval]\n",
      "-------------+----------------------------------------------------------------\n",
      "       age31 |   .8889146    .017891    49.69   0.000      .853848    .9239813\n",
      "       age32 |  -3.371675   .2146471   -15.71   0.000    -3.792387   -2.950962\n",
      "       age33 |   4.337383   .5561108     7.80   0.000     3.247395    5.427372\n",
      "       age34 |    .033703    .444407     0.08   0.940    -.8373439    .9047499\n",
      "       _cons |  -.7183513   .0239949   -29.94   0.000    -.7653819   -.6713208\n",
      "------------------------------------------------------------------------------\n"
     ]
    }
   ],
   "source": [
    "regress v417 age3*"
   ]
  },
  {
   "cell_type": "code",
   "execution_count": 19,
   "metadata": {},
   "outputs": [
    {
     "name": "stdout",
     "output_type": "stream",
     "text": [
      "(option xb assumed; fitted values)\n"
     ]
    }
   ],
   "source": [
    "predict yhat2"
   ]
  },
  {
   "cell_type": "code",
   "execution_count": 20,
   "metadata": {},
   "outputs": [
    {
     "data": {
      "image/png": "[encoded data removed]",
      "text/plain": [
       "<IPython.core.display.Image object>"
      ]
     },
     "metadata": {},
     "output_type": "display_data"
    }
   ],
   "source": [
    "tw (scatter v417 v013) (line yhat2 v013, sort color(red) lwidth(thick))"
   ]
  },
  {
   "cell_type": "code",
   "execution_count": 21,
   "metadata": {},
   "outputs": [],
   "source": [
    "*Nominal model\n",
    "xi i.v025 i.v481, noomit"
   ]
  },
  {
   "cell_type": "code",
   "execution_count": 22,
   "metadata": {},
   "outputs": [
    {
     "data": {
      "text/html": [
       "<div>\n",
       "<style scoped>\n",
       "    .dataframe tbody tr th:only-of-type {\n",
       "        vertical-align: middle;\n",
       "    }\n",
       "\n",
       "    .dataframe tbody tr th {\n",
       "        vertical-align: top;\n",
       "    }\n",
       "\n",
       "    .dataframe thead th {\n",
       "        text-align: right;\n",
       "    }\n",
       "</style>\n",
       "<table border=\"1\" class=\"dataframe\">\n",
       "  <thead>\n",
       "    <tr style=\"text-align: right;\">\n",
       "      <th></th>\n",
       "      <th>v025</th>\n",
       "      <th>v481</th>\n",
       "      <th>_Iv025_1</th>\n",
       "      <th>_Iv025_2</th>\n",
       "      <th>_Iv481_0</th>\n",
       "      <th>_Iv481_1</th>\n",
       "    </tr>\n",
       "  </thead>\n",
       "  <tbody>\n",
       "    <tr>\n",
       "      <th>1</th>\n",
       "      <td>urban</td>\n",
       "      <td>no</td>\n",
       "      <td>1</td>\n",
       "      <td>0</td>\n",
       "      <td>1</td>\n",
       "      <td>0</td>\n",
       "    </tr>\n",
       "    <tr>\n",
       "      <th>2</th>\n",
       "      <td>urban</td>\n",
       "      <td>no</td>\n",
       "      <td>1</td>\n",
       "      <td>0</td>\n",
       "      <td>1</td>\n",
       "      <td>0</td>\n",
       "    </tr>\n",
       "    <tr>\n",
       "      <th>3</th>\n",
       "      <td>urban</td>\n",
       "      <td>no</td>\n",
       "      <td>1</td>\n",
       "      <td>0</td>\n",
       "      <td>1</td>\n",
       "      <td>0</td>\n",
       "    </tr>\n",
       "    <tr>\n",
       "      <th>4</th>\n",
       "      <td>urban</td>\n",
       "      <td>no</td>\n",
       "      <td>1</td>\n",
       "      <td>0</td>\n",
       "      <td>1</td>\n",
       "      <td>0</td>\n",
       "    </tr>\n",
       "    <tr>\n",
       "      <th>5</th>\n",
       "      <td>urban</td>\n",
       "      <td>no</td>\n",
       "      <td>1</td>\n",
       "      <td>0</td>\n",
       "      <td>1</td>\n",
       "      <td>0</td>\n",
       "    </tr>\n",
       "  </tbody>\n",
       "</table>\n",
       "</div>"
      ]
     },
     "metadata": {},
     "output_type": "display_data"
    }
   ],
   "source": [
    "%head v025 v481 _I* if _n<6"
   ]
  },
  {
   "cell_type": "code",
   "execution_count": 23,
   "metadata": {},
   "outputs": [
    {
     "name": "stdout",
     "output_type": "stream",
     "text": [
      "note: 1.v481 omitted because of collinearity.\n",
      "note: 3b.v481 identifies no observations in the sample.\n",
      "\n",
      "      Source |       SS           df       MS      Number of obs   =    41,821\n",
      "-------------+----------------------------------   F(2, 41818)     =    270.47\n",
      "       Model |  438.686143         2  219.343071   Prob > F        =    0.0000\n",
      "    Residual |  33913.1346    41,818  .810969787   R-squared       =    0.0128\n",
      "-------------+----------------------------------   Adj R-squared   =    0.0127\n",
      "       Total |  34351.8207    41,820  .821420868   Root MSE        =    .90054\n",
      "\n",
      "------------------------------------------------------------------------------\n",
      "        v417 | Coefficient  Std. err.      t    P>|t|     [95% conf. interval]\n",
      "-------------+----------------------------------------------------------------\n",
      "        v025 |\n",
      "      urban  |  -.2029461   .0090065   -22.53   0.000    -.2205991   -.1852931\n",
      "             |\n",
      "        v481 |\n",
      "         no  |   .0992365   .0274336     3.62   0.000      .045466    .1530069\n",
      "        yes  |          0  (omitted)\n",
      "          3  |          0  (empty)\n",
      "             |\n",
      "       _cons |   .7970043   .0276419    28.83   0.000     .7428256    .8511829\n",
      "------------------------------------------------------------------------------\n"
     ]
    }
   ],
   "source": [
    "xi: reg v417 ib2.v025 ib3.v481"
   ]
  },
  {
   "cell_type": "code",
   "execution_count": 24,
   "metadata": {},
   "outputs": [
    {
     "name": "stdout",
     "output_type": "stream",
     "text": [
      "\n",
      "Variables that uniquely identify margins: v025\n"
     ]
    },
    {
     "data": {
      "image/png": "[encoded data removed]",
      "text/plain": [
       "<IPython.core.display.Image object>"
      ]
     },
     "metadata": {},
     "output_type": "display_data"
    }
   ],
   "source": [
    "set scheme plotplainblind\n",
    "qui margins i.v025, atmeans\n",
    "*marginsplot\n",
    "marginsplot, unique recast(scatter) ytitle(Maternal health utilization)"
   ]
  },
  {
   "cell_type": "code",
   "execution_count": 25,
   "metadata": {},
   "outputs": [],
   "source": [
    "*Model 1\n",
    "quietly eststo: reg v417 v013\n",
    "\n",
    "*Model 2\n",
    "quietly eststo: reg v417 v025"
   ]
  },
  {
   "cell_type": "code",
   "execution_count": 26,
   "metadata": {},
   "outputs": [
    {
     "name": "stdout",
     "output_type": "stream",
     "text": [
      "\n",
      "--------------------------------------------\n",
      "                      (1)             (2)   \n",
      "                  Model 1         Model 2   \n",
      "                     b/se            b/se   \n",
      "--------------------------------------------\n",
      "Age                 0.019***                \n",
      "                  (0.002)                   \n",
      "Residence                           0.206***\n",
      "                                  (0.009)   \n",
      "--------------------------------------------\n",
      "R-Squared           0.002           0.012   \n",
      "N               41821.000       41821.000   \n",
      "--------------------------------------------\n"
     ]
    }
   ],
   "source": [
    "esttab, stats(r2 N, labels(\"R-Squared\" \"N\")) cells(b(star fmt(3)) se(fmt(3) par)) /// \n",
    "  nobase mlabels (\"Model 1\" \"Model 2\") starlevels(* .05 ** .01 *** .001) ///\n",
    "  coeflabels (v013 \"Age\" v025 \"Residence\") noconstant"
   ]
  },
  {
   "cell_type": "markdown",
   "metadata": {},
   "source": [
    "## 3. Interpret the results [1 pt]\n",
    "\n",
    "    A. Say whether the results support or contradict your hypothesis and why\n",
    "    \n",
    "    A. Older women are more likely to utilize maternal health care in Nigeria. From the output above, Age is statistically significant for maternal health utilization in model  (p < 0.001). This supports my earlier hypothesis that increase in age will lead to increase in how frequent a woman utilize maternal healthcare in Nigeria. For model 2, we can see that change in type of place of residence will lead to increase in how frequent a woman utilize maternal healthcare. Residence is statistically significant for maternal health utilization in Nigeria.\n",
    "    \n",
    "    B. Say whether a linear or particular non-linear model best describes your data and why\n",
    "    \n",
    "    B.  For the spline relationship in model 1, it best describe my data as it exhibits a curved pattern and not follow a straight line which can be explained to mean that an increase in age will lead to increase in maternal health utilization as seen from age 22, but dropped at age 42. This can also be interpreted using the r-squared. The r-squared of 0.2462 shows that 25% of the variation in maternal health utilization can be explained by age. This makes sense theoretically as women advance in age, they give birth until they grow older and stop giving birth, hence, less frequent visits for antenatal or postnatal care. In model 2 with an r-squared of 0.0128 which means that 1.28% of variation in maternal health utilization can be explained by type of place of residence. This shows that type of place of residence has limited or little explanatory power in for predicting maternal health utilization in Nigeria. Therefore, this model provides a poor fit for the data. "
   ]
  },
  {
   "cell_type": "code",
   "execution_count": 27,
   "metadata": {},
   "outputs": [
    {
     "name": "stdout",
     "output_type": "stream",
     "text": [
      "      name:  <unnamed>\n",
      "       log:  /Users/johnadeleke/Desktop/Stats2/soc211_assignment/Log for Proble\n",
      "> m Set 3.log\n",
      "  log type:  text\n",
      " closed on:   4 Mar 2024, 21:50:04\n",
      "-------------------------------------------------------------------------------\n"
     ]
    }
   ],
   "source": [
    "log close"
   ]
  },
  {
   "cell_type": "code",
   "execution_count": null,
   "metadata": {},
   "outputs": [],
   "source": []
  }
 ],
 "metadata": {
  "kernelspec": {
   "display_name": "Stata (nbstata)",
   "language": "stata",
   "name": "nbstata"
  },
  "language_info": {
   "file_extension": ".do",
   "mimetype": "text/x-stata",
   "name": "stata",
   "version": "17"
  }
 },
 "nbformat": 4,
 "nbformat_minor": 4
}
