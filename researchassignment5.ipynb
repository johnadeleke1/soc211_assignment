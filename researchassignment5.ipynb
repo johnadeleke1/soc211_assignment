{
 "cells": [
  {
   "cell_type": "markdown",
   "metadata": {},
   "source": [
    "# Research Assignment 5 \n",
    "\n",
    "\n",
    "John Adeleke\n",
    "\n",
    "Health Insurance and Health Facility Utilization in Rural Nigeria\n",
    "\n",
    "04/16/2024"
   ]
  },
  {
   "cell_type": "code",
   "execution_count": 1,
   "metadata": {},
   "outputs": [
    {
     "data": {
      "text/html": [
       "<style>div.jp-Notebook .datagrid-container {min-height: 448px; }</style>"
      ],
      "text/plain": [
       "<IPython.core.display.HTML object>"
      ]
     },
     "metadata": {},
     "output_type": "display_data"
    },
    {
     "name": "stdout",
     "output_type": "stream",
     "text": [
      "/Users/johnadeleke/Desktop/Stats2/soc211_assignment\n"
     ]
    }
   ],
   "source": [
    "cd /Users/johnadeleke/Desktop/Stats2/soc211_assignment"
   ]
  },
  {
   "cell_type": "code",
   "execution_count": 2,
   "metadata": {},
   "outputs": [
    {
     "name": "stdout",
     "output_type": "stream",
     "text": [
      "(-set more- irrelevant in this version of Stata)\n"
     ]
    }
   ],
   "source": [
    "set more off"
   ]
  },
  {
   "cell_type": "code",
   "execution_count": 3,
   "metadata": {},
   "outputs": [
    {
     "name": "stdout",
     "output_type": "stream",
     "text": [
      "\n"
     ]
    }
   ],
   "source": [
    "set maxvar 120000"
   ]
  },
  {
   "cell_type": "code",
   "execution_count": 4,
   "metadata": {},
   "outputs": [],
   "source": [
    "use /Users/johnadeleke/Desktop/Stats2/soc211_assignment/NGIR7BDT/NGIR7BFL.DTA"
   ]
  },
  {
   "cell_type": "code",
   "execution_count": 5,
   "metadata": {},
   "outputs": [],
   "source": [
    "use v025 v394 v481 using \"NGIR7BDT/NGIR7BFL.DTA\", clear"
   ]
  },
  {
   "cell_type": "code",
   "execution_count": 6,
   "metadata": {},
   "outputs": [
    {
     "name": "stdout",
     "output_type": "stream",
     "text": [
      "\n",
      "Variable      Storage   Display    Value\n",
      "    name         type    format    label      Variable label\n",
      "-------------------------------------------------------------------------------\n",
      "v025            byte    %8.0g      V025       type of place of residence\n",
      "v394            byte    %8.0g      V394       visited health facility last 12\n",
      "                                                months\n",
      "v481            byte    %8.0g      V481       covered by health insurance\n"
     ]
    }
   ],
   "source": [
    "describe v025 v394 v481"
   ]
  },
  {
   "cell_type": "code",
   "execution_count": 7,
   "metadata": {},
   "outputs": [
    {
     "name": "stdout",
     "output_type": "stream",
     "text": [
      "\n",
      "-------------------------------------------------------------------------------\n",
      "v025                                                 type of place of residence\n",
      "-------------------------------------------------------------------------------\n",
      "\n",
      "                  Type: Numeric (byte)\n",
      "                 Label: V025\n",
      "\n",
      "                 Range: [1,2]                         Units: 1\n",
      "         Unique values: 2                         Missing .: 0/41,821\n",
      "\n",
      "            Tabulation: Freq.   Numeric  Label\n",
      "                       16,984         1  urban\n",
      "                       24,837         2  rural\n",
      "\n",
      "-------------------------------------------------------------------------------\n",
      "v394                                     visited health facility last 12 months\n",
      "-------------------------------------------------------------------------------\n",
      "\n",
      "                  Type: Numeric (byte)\n",
      "                 Label: V394\n",
      "\n",
      "                 Range: [0,1]                         Units: 1\n",
      "         Unique values: 2                         Missing .: 0/41,821\n",
      "\n",
      "            Tabulation: Freq.   Numeric  Label\n",
      "                       25,259         0  no\n",
      "                       16,562         1  yes\n",
      "\n",
      "-------------------------------------------------------------------------------\n",
      "v481                                                covered by health insurance\n",
      "-------------------------------------------------------------------------------\n",
      "\n",
      "                  Type: Numeric (byte)\n",
      "                 Label: V481\n",
      "\n",
      "                 Range: [0,1]                         Units: 1\n",
      "         Unique values: 2                         Missing .: 0/41,821\n",
      "\n",
      "            Tabulation: Freq.   Numeric  Label\n",
      "                       40,704         0  no\n",
      "                        1,117         1  yes\n"
     ]
    }
   ],
   "source": [
    "codebook v025 v394 v481"
   ]
  },
  {
   "cell_type": "raw",
   "metadata": {},
   "source": [
    "tab v025, nol"
   ]
  },
  {
   "cell_type": "code",
   "execution_count": 8,
   "metadata": {},
   "outputs": [
    {
     "name": "stdout",
     "output_type": "stream",
     "text": [
      "(16,984 missing values generated)\n"
     ]
    }
   ],
   "source": [
    "gen rural=1 if v025==2"
   ]
  },
  {
   "cell_type": "code",
   "execution_count": 9,
   "metadata": {},
   "outputs": [
    {
     "name": "stdout",
     "output_type": "stream",
     "text": [
      "(16,984 real changes made)\n"
     ]
    }
   ],
   "source": [
    "replace rural=0 if v025==1"
   ]
  },
  {
   "cell_type": "code",
   "execution_count": 10,
   "metadata": {},
   "outputs": [
    {
     "name": "stdout",
     "output_type": "stream",
     "text": [
      "\n",
      "      rural |      Freq.     Percent        Cum.\n",
      "------------+-----------------------------------\n",
      "          0 |     16,984       40.61       40.61\n",
      "          1 |     24,837       59.39      100.00\n",
      "------------+-----------------------------------\n",
      "      Total |     41,821      100.00\n"
     ]
    }
   ],
   "source": [
    "tab rural"
   ]
  },
  {
   "cell_type": "markdown",
   "metadata": {},
   "source": [
    "### 1. Develop hypotheses that approach a nominal variable in your dataset as a dependent variable (DV). [1 pt]\n",
    "\n",
    "* If your nominal variable has more than two categorical variables, such as political party affiliation categories of -- Democrat, Democratic Socialist, Green, Independent, or Republican -- develop hypotheses that treat being or not being in at least one of the categories as a dichotomous binomial dependent variable (DV).\n",
    "\n",
    "* Even if you are not interested in any categorical outcomes for your research project, still develop an hypothesis for at least one nominal variable in your data as a dependent variable. Thinking about potential influences on that variable could help you see if there are intervening relationships or omitted variable biases in your primary outcome of interest.\n",
    "\n",
    "Do the following when you write your hypothesis:\n",
    "\n",
    "    A. Write a separate hypothesis for each dependent variable (DV) you want to analyze.\n",
    "    \n",
    "    A. I hypothesize that women who live in rural Nigeria and have visited a health facility in the last one year are more like to have health insurance coverage. \n",
    "    \n",
    "    B. For each dependent variable (DV) state the predicted direction of association between your dependent variable DV and independent variables (IVs) in your model. You can predict no relationship if you do not expect a relationship.\n",
    "    \n",
    "   B.  I predict there is no relationship between type of place of residence, health facility utilization and health insurance coverage. \n",
    "    \n",
    "    C. Write a couple sentences about the theoretical reasons (prior knowledge / research) for each of your predictions\n",
    "    \n",
    "   C. In Nigeria, most people get health insurance coverage because of how frequent they visit the hospital. People who rarely get sick or have the need to visit any health facility may not be incentivized enough to subscribe. Therefore, I decided to explore the relationships between health facility utilization in the past year and health insurance coverage, especially across rural and urban areas. Since overpopulation in urban areas could overburden health facilities, utilization might be low, hence, no incentive to get health insurance. Those in rural areas on the other hand do not have overburdened facilities. However, availability of sufficient facilities is not guaranteed in rural areas because of low population. Rural areas are underresourced. It would be interesting to see how these variables intersect even when I could not predict the relationship."
   ]
  },
  {
   "cell_type": "markdown",
   "metadata": {},
   "source": [
    "### 2. Test your hypotheses [3 pts]\n",
    "\n",
    "    A. Create a frequency table for your dependent variable (DV).\n",
    "\n",
    "    B. Estimate an OLS model regressing your dichotomous dependent variable (DV) on your hypothesized independent variables (IVs) and store the results.\n",
    "    \n",
    "    C. Estimate an MLE logistic model regressing your dichotomous dependent variable (DV) on your hypothesized independent variables (IVs) and store the results.\n",
    "    \n",
    "    D. Use esttab to output the coefficients for your OLS and MLE logistic models with html formatting within your Jupyter Notebook.\n",
    "    \n",
    "    E. Use esttab to reoutput your coefficients as odd ratios."
   ]
  },
  {
   "cell_type": "code",
   "execution_count": 11,
   "metadata": {},
   "outputs": [
    {
     "name": "stdout",
     "output_type": "stream",
     "text": [
      "\n",
      " covered by |\n",
      "     health |\n",
      "  insurance |      Freq.     Percent        Cum.\n",
      "------------+-----------------------------------\n",
      "         no |     40,704       97.33       97.33\n",
      "        yes |      1,117        2.67      100.00\n",
      "------------+-----------------------------------\n",
      "      Total |     41,821      100.00\n"
     ]
    }
   ],
   "source": [
    "tab v481"
   ]
  },
  {
   "cell_type": "code",
   "execution_count": 12,
   "metadata": {},
   "outputs": [],
   "source": [
    "est clear"
   ]
  },
  {
   "cell_type": "code",
   "execution_count": 13,
   "metadata": {},
   "outputs": [
    {
     "name": "stdout",
     "output_type": "stream",
     "text": [
      "\n",
      "Linear regression                               Number of obs     =     41,821\n",
      "                                                F(2, 41818)       =     177.53\n",
      "                                                Prob > F          =     0.0000\n",
      "                                                R-squared         =     0.0116\n",
      "                                                Root MSE          =      .1603\n",
      "\n",
      "------------------------------------------------------------------------------\n",
      "             |               Robust\n",
      "        v481 | Coefficient  std. err.      t    P>|t|     [95% conf. interval]\n",
      "-------------+----------------------------------------------------------------\n",
      "        v394 |\n",
      "        yes  |   .0174187   .0016983    10.26   0.000     .0140899    .0207475\n",
      "             |\n",
      "        v025 |\n",
      "      rural  |  -.0303347   .0017461   -17.37   0.000     -.033757   -.0269124\n",
      "       _cons |   .0378263   .0015479    24.44   0.000     .0347924    .0408602\n",
      "------------------------------------------------------------------------------\n",
      "(est1 stored)\n"
     ]
    }
   ],
   "source": [
    "eststo: reg v481 i.v394 i.v025, ro"
   ]
  },
  {
   "cell_type": "code",
   "execution_count": 14,
   "metadata": {},
   "outputs": [
    {
     "name": "stdout",
     "output_type": "stream",
     "text": [
      "\n",
      "Iteration 0:  Log pseudolikelihood = -5148.5625  \n",
      "Iteration 1:  Log pseudolikelihood = -4936.4195  \n",
      "Iteration 2:  Log pseudolikelihood =  -4909.817  \n",
      "Iteration 3:  Log pseudolikelihood = -4909.8049  \n",
      "Iteration 4:  Log pseudolikelihood = -4909.8049  \n",
      "\n",
      "Logistic regression                                     Number of obs = 41,821\n",
      "                                                        Wald chi2(2)  = 413.56\n",
      "                                                        Prob > chi2   = 0.0000\n",
      "Log pseudolikelihood = -4909.8049                       Pseudo R2     = 0.0464\n",
      "\n",
      "------------------------------------------------------------------------------\n",
      "             |               Robust\n",
      "        v481 | Coefficient  std. err.      z    P>|z|     [95% conf. interval]\n",
      "-------------+----------------------------------------------------------------\n",
      "        v394 |\n",
      "        yes  |   .6534575   .0613059    10.66   0.000     .5333001    .7736149\n",
      "             |\n",
      "        v025 |\n",
      "      rural  |  -1.170723   .0651914   -17.96   0.000    -1.298496    -1.04295\n",
      "       _cons |  -3.372742   .0494146   -68.25   0.000    -3.469593   -3.275891\n",
      "------------------------------------------------------------------------------\n",
      "(est2 stored)\n",
      "\n",
      "Conditional marginal effects                            Number of obs = 41,821\n",
      "Model VCE: Robust\n",
      "\n",
      "Expression: Pr(v481), predict()\n",
      "dy/dx wrt:  1.v394 2.v025\n",
      "At: 0.v394 = .6039789 (mean)\n",
      "    1.v394 = .3960211 (mean)\n",
      "    1.v025 = .4061118 (mean)\n",
      "    2.v025 = .5938882 (mean)\n",
      "\n",
      "------------------------------------------------------------------------------\n",
      "             |            Delta-method\n",
      "             |      dy/dx   std. err.      z    P>|z|     [95% conf. interval]\n",
      "-------------+----------------------------------------------------------------\n",
      "        v394 |\n",
      "        yes  |   .0150201   .0014759    10.18   0.000     .0121273    .0179128\n",
      "             |\n",
      "        v025 |\n",
      "      rural  |  -.0289444   .0016773   -17.26   0.000    -.0322317    -.025657\n",
      "------------------------------------------------------------------------------\n",
      "Note: dy/dx for factor levels is the discrete change from the base level.\n",
      "(est3 stored)\n"
     ]
    }
   ],
   "source": [
    "eststo: logit v481 i.v394 i.v025, ro\n",
    "eststo: margins, dydx(*) post atmeans"
   ]
  },
  {
   "cell_type": "code",
   "execution_count": 15,
   "metadata": {},
   "outputs": [
    {
     "name": "stdout",
     "output_type": "stream",
     "text": [
      "\n",
      "Unexpontiated Coefficients\n",
      "---------------------------------------------------------------\n",
      "                      (1)              (2)              (3)    \n",
      "                      OLS     MLE / logi~c     MLE margin~s    \n",
      "---------------------------------------------------------------\n",
      "main                                                           \n",
      "1.v394               0.02 ***         0.65 ***         0.02 ***\n",
      "                   (0.00)           (0.06)           (0.00)    \n",
      "1.v025               0.00             0.00             0.00    \n",
      "                      (.)              (.)              (.)    \n",
      "_cons                0.04 ***        -3.37 ***                 \n",
      "                   (0.00)           (0.05)                     \n",
      "---------------------------------------------------------------\n",
      "N                   41821            41821            41821    \n",
      "---------------------------------------------------------------\n",
      "^ p<.1, * p<.05, ** p<.01, *** p<.001\n"
     ]
    }
   ],
   "source": [
    "esttab ///\n",
    ", cells(b(star fmt(2)) se(fmt(2) par)) stardetach  ///\n",
    "\tlegend starlevels(^ .1 * .05 ** .01 *** .001) ///\n",
    "mlabels(\"OLS\" \"MLE / logistic\" \"MLE marginal effects\") title(\"Unexpontiated Coefficients\") ///\n",
    "collabels(none) keep(1.v394 1.v025 _cons)"
   ]
  },
  {
   "cell_type": "code",
   "execution_count": 16,
   "metadata": {},
   "outputs": [
    {
     "name": "stdout",
     "output_type": "stream",
     "text": [
      "\n",
      "Odd Ratio\n",
      "---------------------------------------------------------------\n",
      "                      (1)              (2)              (3)    \n",
      "                      OLS     MLE / logi~c     MLE margin~s    \n",
      "---------------------------------------------------------------\n",
      "main                                                           \n",
      "1.v394               1.02 ***         1.92 ***         1.02 ***\n",
      "                   (0.00)           (0.12)           (0.00)    \n",
      "1.v025               1.00             1.00             1.00    \n",
      "                      (.)              (.)              (.)    \n",
      "---------------------------------------------------------------\n",
      "N                   41821            41821            41821    \n",
      "---------------------------------------------------------------\n",
      "Exponentiated coefficients\n",
      "^ p<.1, * p<.05, ** p<.01, *** p<.001\n"
     ]
    }
   ],
   "source": [
    "esttab ///\n",
    ", cells(b(star fmt(2)) se(fmt(2) par)) stardetach  ///\n",
    "\tlegend starlevels(^ .1 * .05 ** .01 *** .001) ///\n",
    "mlabels(\"OLS\" \"MLE / logistic\" \"MLE marginal effects\") title(\"Odd Ratio\") ///\n",
    "collabels(none) keep(1.v394 1.v025 _cons) eform"
   ]
  },
  {
   "cell_type": "markdown",
   "metadata": {},
   "source": [
    "### 3. Interpret your results [1 pt]\n",
    "\n",
    "Write a couple sentences answering each of the following questions:\n",
    "\n",
    "    A. How would you interpret the relationship between your dependent variable(s) (DVs) and independent variables (IVs) based on the odds ratios for you MLE logistic model?\n",
    "\n",
    "    B. Do the overall estimates support or contradict your hypotheses? Why?\n",
    "    \n",
    "    C. Is there anything suprising in your model estimates? Why?\n",
    "    \n",
    "    D. How do the OLS coefficients and their standard errors compare to the MLE estimates? Are the coefficients and standard errors larger or smaller?"
   ]
  },
  {
   "cell_type": "markdown",
   "metadata": {},
   "source": [
    "A. The odds of women having health insurance coverage is 2% more for those who have visited a health facility in the past year compared to those who have not. While the odds of of having health insurance coverage is the same for rural and urban areas. \n",
    "\n",
    "B. The results provide little supporting evidence for my hypothesis. As I expected, women who have visit a health facility in the last one year have higher odds of have having health insurance subscription. However, the odds is the same for rural and urban areas. \n",
    "\n",
    "c. I am surprise that type of place of residence has no effect on health insurance coverage. My intuition suggests that those in rural areas would have a higher likelihood of having health insurance because of accessibility to health facilities which are not overburdened by overpopulation like urban areas. \n",
    "\n",
    "D. The magnitude, direction, and standard errors of my findings are comparable between the OLS and MLE models. There appears to be virtually no difference on the result. "
   ]
  }
 ],
 "metadata": {
  "kernelspec": {
   "display_name": "Stata (nbstata)",
   "language": "stata",
   "name": "nbstata"
  },
  "language_info": {
   "file_extension": ".do",
   "mimetype": "text/x-stata",
   "name": "stata",
   "version": "17"
  }
 },
 "nbformat": 4,
 "nbformat_minor": 4
}
